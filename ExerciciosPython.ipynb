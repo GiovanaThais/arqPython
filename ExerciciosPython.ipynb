{
  "nbformat": 4,
  "nbformat_minor": 0,
  "metadata": {
    "colab": {
      "provenance": [],
      "include_colab_link": true
    },
    "kernelspec": {
      "name": "python3",
      "display_name": "Python 3"
    },
    "language_info": {
      "name": "python"
    }
  },
  "cells": [
    {
      "cell_type": "markdown",
      "metadata": {
        "id": "view-in-github",
        "colab_type": "text"
      },
      "source": [
        "<a href=\"https://colab.research.google.com/github/GiovanaThais/arqPython/blob/master/ExerciciosPython.ipynb\" target=\"_parent\"><img src=\"https://colab.research.google.com/assets/colab-badge.svg\" alt=\"Open In Colab\"/></a>"
      ]
    },
    {
      "cell_type": "markdown",
      "source": [
        "# Desafio:\n",
        "\n",
        "# O desafio consiste em ordenar uma lista de títulos de livros em ordem alfabética e deixá-los separados por vírgula.\n",
        "\n",
        "# A lista de títulos é fornecida como uma string chamada “titulos”, onde cada título está em uma nova linha."
      ],
      "metadata": {
        "id": "xzRlbA44EvTm"
      }
    },
    {
      "cell_type": "code",
      "source": [
        "titulos = \"\"\"O Senhor dos Anéis\n",
        "Harry Potter e a Pedra Filosofal\n",
        "1984\n",
        "O Lobo da Estepe\n",
        "Cem Anos de Solidão\n",
        "A Metamorfose\n",
        "A Revolução dos Bichos\n",
        "Crime e Castigo\n",
        "Macunaíma\"\"\".replace('\\n',', ')\n",
        "\n",
        "print(titulos)"
      ],
      "metadata": {
        "colab": {
          "base_uri": "https://localhost:8080/"
        },
        "id": "naL5oMv0EwVN",
        "outputId": "69c8fc33-aae4-42fe-af3a-82fc0e900a22"
      },
      "execution_count": null,
      "outputs": [
        {
          "output_type": "stream",
          "name": "stdout",
          "text": [
            "O Senhor dos Anéis, Harry Potter e a Pedra Filosofal, 1984, O Lobo da Estepe, Cem Anos de Solidão, A Metamorfose, A Revolução dos Bichos, Crime e Castigo, Macunaíma\n"
          ]
        }
      ]
    },
    {
      "cell_type": "markdown",
      "source": [
        "# O desafio consiste em criar uma função que irá receber um texto (string) e retornará a palavra mais longa."
      ],
      "metadata": {
        "id": "KFne2h8XEwNV"
      }
    },
    {
      "cell_type": "code",
      "execution_count": null,
      "metadata": {
        "colab": {
          "base_uri": "https://localhost:8080/"
        },
        "id": "rOPIxlFUEqrh",
        "outputId": "f845629d-57f8-4e9d-fe1b-2f78de889d95"
      },
      "outputs": [
        {
          "output_type": "stream",
          "name": "stdout",
          "text": [
            "criatividade\n"
          ]
        }
      ],
      "source": [
        "texto = '''O Louco do Python\n",
        "No meu computador,\n",
        "o Python habita\n",
        "e com ele eu desvendo\n",
        "a lógica infinita\n",
        "Nas linhas de código\n",
        "encontro o meu ser\n",
        "e através da sintaxe\n",
        "posso me conhecer\n",
        "As funções e métodos\n",
        "são como os versos\n",
        "que em harmonia se unem\n",
        "formando universos\n",
        "E como Pessoa disse\n",
        "somos todos um pouco\n",
        "no Python me encontro\n",
        "e me torno outro louco\n",
        "Louco pela programação\n",
        "e por tudo que ela traz\n",
        "em um mundo digital\n",
        "onde a criatividade jaz\n",
        "Então que o Python\n",
        "seja minha poesia\n",
        "e em cada linha de código\n",
        "eu encontre a sabedoria.'''.replace('\\n', ' ').replace(' ','-')\n",
        "\n",
        "temp = ''\n",
        "maior_palavra = ''\n",
        "\n",
        "for i in texto:\n",
        "  if i != '-':\n",
        "    temp+=i\n",
        "  else:\n",
        "    if len(temp) > len(maior_palavra):\n",
        "      maior_palavra = temp\n",
        "    temp = ''\n",
        "\n",
        "print(maior_palavra)\n"
      ]
    },
    {
      "cell_type": "markdown",
      "source": [
        "# Você trabalha em uma biblioteca e recebeu uma lista de títulos de artigos. Sua tarefa é criar um programa que conte quantas vezes uma determinada palavra aparece nos títulos dos artigos."
      ],
      "metadata": {
        "id": "MiOyG6a4ExPP"
      }
    },
    {
      "cell_type": "code",
      "source": [
        "artigo = [\n",
        "'RecurrentGPT: Interactive Generation of (Arbitrarily) Long Text',\n",
        "'VideoLLM: Modeling Video Sequence with Large Language Models',\n",
        "'Watermarking Text Data on Large Language Models for Dataset Copyright Protection',\n",
        "'InheritSumm: A General, Versatile and Compact Summarizer by Distilling from GPT',\n",
        "'Can Large Language Models emulate an inductive Thematic Analysis of semi-structured interviews? An exploration and provocation on the limits of the approach and the model',\n",
        "'GPT-SW3: An Autoregressive Language Model for the Nordic Languages',\n",
        "'The Emergence of Economic Rationality of GPT',\n",
        "'Can We Edit Factual Knowledge by In-Context Learning?',\n",
        "'G3Detector: General GPT-Generated Text Detector',\n",
        "'GPT Paternity Test: GPT Generated Text Detection with GPT Genetic Inheritance'\n",
        "]\n",
        "\n",
        "separator = ' '\n",
        "artigos = [separator.join(artigo)]\n",
        "palavras = ''\n",
        "\n",
        "for i in artigos:\n",
        "  for j in i:\n",
        "\n",
        "    if j != ' ':\n",
        "        j.lower()\n",
        "        palavras+=j\n",
        "    else:\n",
        "      palavras+=' '\n",
        "\n",
        "palavras_tratadas = palavras.replace(':','').replace('?','').replace(')','').replace('(','').replace('/n','').lower().split()\n",
        "\n",
        "busca = (input('Digite uma palavra para busca: '))\n",
        "\n",
        "if palavras_tratadas.count(busca):\n",
        "  print(f'existem um total de {palavras_tratadas.count(busca)} de palavras que contém {busca}!')\n",
        "else:\n",
        "  print('essa palavra não consta nos dados!')"
      ],
      "metadata": {
        "colab": {
          "base_uri": "https://localhost:8080/"
        },
        "id": "zjV0RRRUExXM",
        "outputId": "3464cbb0-55a3-4c0e-fef9-e3f6c3d70e99"
      },
      "execution_count": null,
      "outputs": [
        {
          "output_type": "stream",
          "name": "stdout",
          "text": [
            "Digite uma palavra para busca: text\n",
            "existem um total de 4 de palavras que contém text!\n"
          ]
        }
      ]
    },
    {
      "cell_type": "markdown",
      "source": [
        "Você e os outros integrantes da sua república (Joca, Moacir, Demival e Jackson) foram no supermercado e compraram alguns itens:\n",
        "\n",
        "75 latas de cerveja: R$ 2,20 cada (da ruim ainda, pra fazer o dinheiro render)\n",
        "\n",
        "2 pacotes de macarrão: R$ 8,73 cada\n",
        "\n",
        "1 pacote de Molho de tomate: R$ 3,45\n",
        "\n",
        "420g Cebola: R$ 5,40/kg\n",
        "\n",
        "250g de Alho: R$ 30/kg\n",
        "\n",
        "450g de pães franceses: R$ 25/kg\n",
        "\n",
        "Calcule quanto ficou para cada um."
      ],
      "metadata": {
        "id": "eWtpGFSML1Yx"
      }
    },
    {
      "cell_type": "code",
      "source": [
        "soma = (75*2.2) + (8.72*2) + (3.45) + (0.450*25) + (0.420 * 5.4) + (0.250*30)\n",
        "\n",
        "print(f\"O total deu {soma:.2f}R$ que dividido para os quatro ficou {soma/4:.2f}R$ \")"
      ],
      "metadata": {
        "colab": {
          "base_uri": "https://localhost:8080/"
        },
        "id": "5KpQYzsuEz4D",
        "outputId": "47688f66-7ef4-4b22-c4bf-ffeb480aca85"
      },
      "execution_count": null,
      "outputs": [
        {
          "output_type": "stream",
          "name": "stdout",
          "text": [
            "O total deu 206.91R$ que dividido para os quatro ficou 51.73R$ \n"
          ]
        }
      ]
    },
    {
      "cell_type": "code",
      "source": [
        "import random\n",
        "\n",
        "#lista_desordenada = [random.randint(1, 100) for _ in range(10)]\n",
        "lista_desordenada = [3,5,1,2]\n",
        "temp = []\n",
        "for i in range(len(lista_desordenada)):\n",
        "  aux = lista_desordenada[0]\n",
        "  for j in lista_desordenada:\n",
        "    if j < aux:\n",
        "      temp.append(j)\n",
        "      aux = j\n",
        "\n",
        "\n",
        "print(lista_desordenada)\n",
        "print(temp)\n",
        "\n",
        "\n",
        "\n"
      ],
      "metadata": {
        "colab": {
          "base_uri": "https://localhost:8080/"
        },
        "id": "mHuzVi_HjeqB",
        "outputId": "52f7f2f2-edb6-4955-fc0b-598aab20a1ec"
      },
      "execution_count": null,
      "outputs": [
        {
          "output_type": "stream",
          "name": "stdout",
          "text": [
            "[3, 5, 1, 2]\n",
            "[1, 1, 1, 1]\n"
          ]
        }
      ]
    }
  ]
}