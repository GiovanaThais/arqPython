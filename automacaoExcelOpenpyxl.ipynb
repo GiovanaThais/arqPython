{
  "nbformat": 4,
  "nbformat_minor": 0,
  "metadata": {
    "colab": {
      "provenance": [],
      "authorship_tag": "ABX9TyPErLJct4HL3szCFYVaoGea",
      "include_colab_link": true
    },
    "kernelspec": {
      "name": "python3",
      "display_name": "Python 3"
    },
    "language_info": {
      "name": "python"
    }
  },
  "cells": [
    {
      "cell_type": "markdown",
      "metadata": {
        "id": "view-in-github",
        "colab_type": "text"
      },
      "source": [
        "<a href=\"https://colab.research.google.com/github/GiovanaThais/arqPython/blob/master/automacaoExcelOpenpyxl.ipynb\" target=\"_parent\"><img src=\"https://colab.research.google.com/assets/colab-badge.svg\" alt=\"Open In Colab\"/></a>"
      ]
    },
    {
      "cell_type": "code",
      "execution_count": 5,
      "metadata": {
        "id": "2T3-YwPh1Rox"
      },
      "outputs": [],
      "source": [
        "import openpyxl\n",
        "from openpyxl.styles import PatternFill, Border, Side, Alignment, Protection, Font"
      ]
    },
    {
      "cell_type": "code",
      "source": [
        "#criar planilha\n",
        "book= openpyxl.Workbook()\n",
        "\n",
        "#visualizar paginas existentes\n",
        "print(book.sheetnames)\n",
        "\n",
        "#como criar paginas \n",
        "book.create_sheet('frutas')\n",
        "\n",
        "#como selecionar uma pagina\n",
        "fruit_pages = book['frutas']\n",
        "#adicionar linhas\n",
        "fruit_pages.append(['fruta', 'quantidade', 'preço'])\n",
        "fruit_pages.append(['fruta 2', '2', 'R$4,00'])\n",
        "fruit_pages.append(['fruta 3', '3', 'R$2,00'])\n",
        "fruit_pages.append(['fruta 4', '4', 'R$3,00'])\n",
        "fruit_pages.append(['fruta 5', '5', 'R$6,00'])\n",
        "\n",
        "#salvar a planilha\n",
        "book.save('planilha de compras.xlsx')\n",
        "\n"
      ],
      "metadata": {
        "colab": {
          "base_uri": "https://localhost:8080/"
        },
        "id": "S5gFRRIr2Alj",
        "outputId": "e8c36a1c-473d-4c9b-c1fc-b87dacad3158"
      },
      "execution_count": null,
      "outputs": [
        {
          "output_type": "stream",
          "name": "stdout",
          "text": [
            "['Sheet']\n"
          ]
        }
      ]
    },
    {
      "cell_type": "code",
      "source": [
        "#abrindo o arquivo criado\n",
        "book = openpyxl.load_workbook('planilha de compras.xlsx')\n",
        "\n",
        "#selecionando uma pagina\n",
        "fruit_pages = book['frutas']\n",
        "\n",
        "#imprimindo os dados de cada linha, da linha 2 ate a 5\n",
        "for rows in fruit_pages.iter_rows(min_row=2, max_row=5):\n",
        "  for cell in rows:\n",
        "    print(cell.value)"
      ],
      "metadata": {
        "colab": {
          "base_uri": "https://localhost:8080/"
        },
        "id": "kpiOHp4x2A-W",
        "outputId": "18f22ffd-efb0-4520-8df4-60e95513d8d1"
      },
      "execution_count": null,
      "outputs": [
        {
          "output_type": "stream",
          "name": "stdout",
          "text": [
            "fruta 2\n",
            "2\n",
            "R$4,00\n",
            "fruta 3\n",
            "3\n",
            "R$2,00\n",
            "fruta 4\n",
            "4\n",
            "R$3,00\n",
            "fruta 5\n",
            "5\n",
            "R$6,00\n"
          ]
        }
      ]
    },
    {
      "cell_type": "code",
      "source": [
        "#criar planilha\n",
        "pending_procedure = openpyxl.Workbook()\n",
        "\n",
        "#visualizar paginas existentes\n",
        "print(pending_procedure.sheetnames)\n",
        "\n",
        "#como criar paginas \n",
        "pending_procedure.create_sheet('Equipe 3')\n",
        "#Cada aba deve corresponder a uma Firm e o nome da aba deve ser o Firm.name. Ordene as abas alfabeticamente.\n",
        "\n",
        "#como selecionar uma pagina\n",
        "\n",
        "pending_pages = pending_procedure['Equipe 3']\n",
        "#adicionar linhas\n",
        "pending_pages.append(['Unidade', 'Serviço', 'Descrição do serviço',\n",
        "                      'Natureza', 'Obra', 'Sequential', 'Identificador',\n",
        "                      'Data emissão', 'Registros para atendimento', 'Entrega',\n",
        "                      'Tarefa', 'Equipe', 'Responsável', 'Prazo',\n",
        "                      'Atraso(dias)', 'Link'])\n",
        "# pending_pages.append(['fruta 2', '2', 'R$4,00'])\n",
        "# pending_pages.append(['fruta 3', '3', 'R$2,00'])\n",
        "# pending_pages.append(['fruta 4', '4', 'R$3,00'])\n",
        "# pending_pages.append(['fruta 5', '5', 'R$6,00'])\n",
        "\n",
        "#A última célula de cada linha deve ser um hyperlink para a página da tarefa. \n",
        "#Utilize o campo rel_url implementado na issue para construir a URL. Como se trata de um link relativo,\n",
        "#precisamos inserir o prefixo necessário. Busque por settings.FRONTEND_URL e você encontrará exemplos.\n",
        "\n",
        "#Todas as células devem ter quebra de linha\n",
        "\n",
        "#A altura das linhas deve ser a menor altura que mostra todo o texto.\n",
        "\n",
        "#As larguras das colunas devem ser fixas\n",
        "\n",
        "#salvar a planilha\n",
        "pending_procedure.save('Pendencias.xlsx')\n",
        "#O nome do arquivo exportado deve ser Pendências <company_name> - <export_date>.xlsx,\n",
        "#onde company_name é o Company.name da Company usada no request \n",
        "#e export_date é a data no formato yyyy-mm-dd em que o arquivo for exportado (use timezone.now()).\n",
        "\n",
        "#abrindo o arquivo criado\n",
        "# book = openpyxl.load_workbook('planilha de compras.xlsx')"
      ],
      "metadata": {
        "colab": {
          "base_uri": "https://localhost:8080/"
        },
        "id": "foFogIzbB9O1",
        "outputId": "934c1ea0-47be-4e39-bbd5-343c6fdd4638"
      },
      "execution_count": null,
      "outputs": [
        {
          "output_type": "stream",
          "name": "stdout",
          "text": [
            "['Sheet']\n"
          ]
        }
      ]
    },
    {
      "cell_type": "code",
      "source": [
        "#abrindo o arquivo criado\n",
        "pending_procedure = openpyxl.load_workbook('Pendencias.xlsx')\n",
        "\n",
        "#selecionando uma pagina\n",
        "pending_pages = pending_procedure['Equipe 3']\n",
        "\n",
        "#imprimindo os dados de cada linha\n",
        "for rows in pending_pages.iter_rows():\n",
        "  for cell in rows:\n",
        "    if cell.value == 'Sequential':\n",
        "      cell.value = 'Sequencial'\n",
        "\n",
        "pending_procedure.save('Pendencias v2.xlsx')"
      ],
      "metadata": {
        "id": "u42F148zObTf"
      },
      "execution_count": null,
      "outputs": []
    },
    {
      "cell_type": "code",
      "source": [
        "#custonizando estilização em excel\n",
        "font = Font(name='Calibri',size=11,bold=False,italic=False,\n",
        "            vertAlign=None,underline='none',strike=False,color='FF000000')\n",
        "fill = PatternFill(fill_type=None,start_color='FFFFFFFF',end_color='FF000000') \n",
        "border = Border(left=Side(border_style=None,\n",
        "                          color='FF000000'),\n",
        "                 right=Side(border_style=None,\n",
        "                            color='FF000000'),\n",
        "                 top=Side(border_style=None,\n",
        "                         color='FF000000'),\n",
        "                 bottom=Side(border_style=None,\n",
        "                            color='FF000000'),\n",
        "                 diagonal=Side(border_style=None,\n",
        "                          color='FF000000'),\n",
        "                 diagonal_direction=0,\n",
        "                 outline=Side(border_style=None,\n",
        "                             color='FF000000'),\n",
        "                 vertical=Side(border_style=None,\n",
        "                              color='FF000000'),\n",
        "                 horizontal=Side(border_style=None,\n",
        "                               color='FF000000')\n",
        "                ) \n",
        "alignment=Alignment(horizontal='general',vertical='bottom',\n",
        "                    text_rotation=0,wrap_text=False,shrink_to_fit=False,indent=0)\n",
        "number_format = 'General'\n",
        "protection = Protection(locked=True,hidden=False)\n"
      ],
      "metadata": {
        "id": "Xy1K4EhJrP4m"
      },
      "execution_count": null,
      "outputs": []
    },
    {
      "cell_type": "code",
      "source": [
        "wb = openpyxl.Workbook()\n",
        "ws = wb.active\n",
        "ws.merge_cells('B2:F4')\n",
        "\n",
        "top_left_cell = ws['B2']\n",
        "top_left_cell.value = \"My Cell\"\n",
        "\n",
        "thin = Side(border_style=\"thin\", color=\"000000\")\n",
        "double = Side(border_style=\"double\", color=\"ff0000\")\n",
        "\n",
        "top_left_cell.border = Border(top=double, left=thin, right=thin, bottom=double)\n",
        "top_left_cell.fill = PatternFill(\"solid\", fgColor=\"DDDDDD\")\n",
        "top_left_cell.font  = Font(b=True, color=\"FF0000\")\n",
        "top_left_cell.alignment = Alignment(horizontal=\"center\", vertical=\"center\")\n",
        "\n",
        "wb.save(\"styled.xlsx\")"
      ],
      "metadata": {
        "id": "-SaTmI6uwFsd"
      },
      "execution_count": null,
      "outputs": []
    },
    {
      "cell_type": "code",
      "source": [
        "#criando planilha estilizada\n",
        "pending_procedure = openpyxl.Workbook()\n",
        "pending_procedure.create_sheet('Firm 3')\n",
        "\n",
        "pending_pages = pending_procedure['Firm 3']\n",
        "# ws = pending_procedure.active\n",
        "\n",
        "#adicionar linhas\n",
        "pending_pages.append(['Unidade', 'Serviço', 'Descrição do serviço',\n",
        "                      'Natureza', 'Obra', 'Sequential', 'Identificador',\n",
        "                      'Data emissão', 'Registros para atendimento', 'Entrega',\n",
        "                      'Tarefa', 'Equipe', 'Responsável', 'Prazo',\n",
        "                      'Atraso(dias)', 'Link'])\n",
        "\n",
        "thin = Side(border_style=\"thin\", color=\"000000\")\n",
        "\n",
        "pending_pages.border = Border(left=Side(border_style=\"thin\", color=\"000000\"),\n",
        "                            right=Side(border_style=\"thin\", color=\"000000\"),) \n",
        "my_fill = PatternFill(\"solid\",start_color='ddebf7',end_color='ddebf7',)\n",
        "my_font = Font(name=\"Arial\", size=10, bold=True, color=\"000000\")\n",
        "pending_pages.alignment  = Alignment(\n",
        "                            horizontal=\"center\",\n",
        "                            vertical=\"center\",\n",
        "                            wrapText=True,\n",
        "                            wrap_text=True,\n",
        "                        )\n",
        "# Formata o cabeçalho\n",
        "my_header = ['A1', 'B1', 'C1', 'D1', 'E1', 'F1','G1', 'H1', 'I1','J1','K1','L1','M1','N1','O1','P1']\n",
        "for cell in my_header:\n",
        "    pending_pages[cell].fill =my_fill\n",
        "    pending_pages[cell].font = my_font\n",
        "\n",
        "number_format = 'General'\n",
        "protection = Protection(locked=True,hidden=False)\n",
        "pending_procedure.save(\"Pendencias styled7.xlsx\")"
      ],
      "metadata": {
        "id": "sINKd3UP0a9G"
      },
      "execution_count": 17,
      "outputs": []
    }
  ]
}